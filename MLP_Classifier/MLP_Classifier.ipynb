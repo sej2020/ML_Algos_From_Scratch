{
 "cells": [
  {
   "cell_type": "code",
   "execution_count": 2,
   "metadata": {},
   "outputs": [
    {
     "name": "stdout",
     "output_type": "stream",
     "text": [
      "[[  1.        ]\n",
      " [292.2632315 ]\n",
      " [357.37049509]\n",
      " [305.7502975 ]\n",
      " [ 54.19589904]]\n",
      "[[675.52262052]\n",
      " [534.76115984]\n",
      " [369.51057903]]\n"
     ]
    },
    {
     "ename": "AttributeError",
     "evalue": "'numpy.ndarray' object has no attribute 'exp'",
     "output_type": "error",
     "traceback": [
      "\u001b[1;31m---------------------------------------------------------------------------\u001b[0m",
      "\u001b[1;31mAttributeError\u001b[0m                            Traceback (most recent call last)",
      "Cell \u001b[1;32mIn[2], line 89\u001b[0m\n\u001b[0;32m     83\u001b[0m         y \u001b[39m=\u001b[39m \u001b[39mself\u001b[39m\u001b[39m.\u001b[39moutput_layer(a, \u001b[39mself\u001b[39m\u001b[39m.\u001b[39mw)\n\u001b[0;32m     84\u001b[0m         \u001b[39mreturn\u001b[39;00m y\n\u001b[1;32m---> 89\u001b[0m main(\u001b[39m'\u001b[39;49m\u001b[39mwine.data\u001b[39;49m\u001b[39m'\u001b[39;49m)\n",
      "Cell \u001b[1;32mIn[2], line 21\u001b[0m, in \u001b[0;36mmain\u001b[1;34m(datapath)\u001b[0m\n\u001b[0;32m     19\u001b[0m train_x, train_y, val_x, val_y \u001b[39m=\u001b[39m data_split(load_data(datapath))\n\u001b[0;32m     20\u001b[0m myMLP \u001b[39m=\u001b[39m MLP(\u001b[39m4\u001b[39m,\u001b[39m13\u001b[39m,\u001b[39m3\u001b[39m,\u001b[39m0.001\u001b[39m)\n\u001b[1;32m---> 21\u001b[0m prediction \u001b[39m=\u001b[39m myMLP\u001b[39m.\u001b[39;49mpredict(train_x\u001b[39m.\u001b[39;49miloc[\u001b[39m0\u001b[39;49m])\n\u001b[0;32m     22\u001b[0m \u001b[39mreturn\u001b[39;00m(prediction)\n",
      "Cell \u001b[1;32mIn[2], line 83\u001b[0m, in \u001b[0;36mMLP.predict\u001b[1;34m(self, input)\u001b[0m\n\u001b[0;32m     81\u001b[0m \u001b[39mdef\u001b[39;00m \u001b[39mpredict\u001b[39m(\u001b[39mself\u001b[39m, \u001b[39minput\u001b[39m):\n\u001b[0;32m     82\u001b[0m     a \u001b[39m=\u001b[39m \u001b[39mself\u001b[39m\u001b[39m.\u001b[39mhidden_layer(\u001b[39minput\u001b[39m, \u001b[39mself\u001b[39m\u001b[39m.\u001b[39mv)\n\u001b[1;32m---> 83\u001b[0m     y \u001b[39m=\u001b[39m \u001b[39mself\u001b[39;49m\u001b[39m.\u001b[39;49moutput_layer(a, \u001b[39mself\u001b[39;49m\u001b[39m.\u001b[39;49mw)\n\u001b[0;32m     84\u001b[0m     \u001b[39mreturn\u001b[39;00m y\n",
      "Cell \u001b[1;32mIn[2], line 74\u001b[0m, in \u001b[0;36mMLP.output_layer\u001b[1;34m(self, a, w)\u001b[0m\n\u001b[0;32m     72\u001b[0m \u001b[39mprint\u001b[39m(y)\n\u001b[0;32m     73\u001b[0m y \u001b[39m=\u001b[39m np\u001b[39m.\u001b[39mexp(y)\n\u001b[1;32m---> 74\u001b[0m \u001b[39mprint\u001b[39m(y\u001b[39m.\u001b[39;49mexp)\n\u001b[0;32m     75\u001b[0m \u001b[39msum\u001b[39m \u001b[39m=\u001b[39m np\u001b[39m.\u001b[39msum(y)\n\u001b[0;32m     76\u001b[0m y \u001b[39m=\u001b[39m y\u001b[39m*\u001b[39m(\u001b[39m1\u001b[39m\u001b[39m/\u001b[39m\u001b[39msum\u001b[39m)\n",
      "\u001b[1;31mAttributeError\u001b[0m: 'numpy.ndarray' object has no attribute 'exp'"
     ]
    }
   ],
   "source": [
    "import pandas as pd\n",
    "import numpy as np\n",
    "import os\n",
    "\n",
    "def load_data(datapath):\n",
    "    csv_path = os.path.abspath(datapath)\n",
    "    return pd.read_csv(csv_path, header=None)\n",
    "\n",
    "def data_split(dataset):\n",
    "    train = dataset.sample(frac=0.8)\n",
    "    val = dataset.drop(train.index)\n",
    "    train_y = train.iloc[:,0]\n",
    "    train_x = train.drop(0, axis=1)\n",
    "    val_y = val.iloc[:,0]\n",
    "    val_x = val.drop(0, axis=1)\n",
    "    return train_x, train_y, val_x, val_y\n",
    "\n",
    "def main(datapath):\n",
    "    train_x, train_y, val_x, val_y = data_split(load_data(datapath))\n",
    "    myMLP = MLP(4,13,3,0.001)\n",
    "    prediction = myMLP.predict(train_x.iloc[0])\n",
    "    return(prediction)\n",
    "\n",
    "\n",
    "class MLP:\n",
    "\n",
    "    def __init__(self, n_hidden, n_input_feat, n_classes, learning_rate):\n",
    "        self.n_hidden = n_hidden #4\n",
    "        self.n_input = n_input_feat #13\n",
    "        self.n_output = n_classes #3\n",
    "        self.lr = learning_rate #0.0001\n",
    "\n",
    "        self.v = np.random.uniform(size=((self.n_input+1)*self.n_hidden,1))\n",
    "        self.w = np.random.uniform(size=((self.n_hidden+1)*self.n_output,1))\n",
    "\n",
    "\n",
    "    def hidden_layer(self, input, v):\n",
    "        input = np.array(input).reshape(self.n_input,1)\n",
    "        x = np.append(np.array([[1]]), input, axis=0)\n",
    "        #x = vector of length 14\n",
    "        #v = vector of length 56\n",
    "        a = np.zeros(shape=(self.n_hidden,1))\n",
    "        #a = 0 vector of length 4\n",
    "        for node in range(self.n_hidden): #0,1,2,3\n",
    "            a_x = np.zeros(shape=(self.n_input+1,1)) \n",
    "            #a_x = 0 vector of length 14\n",
    "            for index in range(len(v)): #0,1,2,3,...,59,60\n",
    "                if index % self.n_hidden == node:\n",
    "                    a_x[index//self.n_hidden] = v[index]\n",
    "            a[node] = np.dot(a_x.T,x)\n",
    "        #ReLU\n",
    "        for entry in range(len(a)):\n",
    "            a[entry] = (lambda z: z*(z > 0))(a[entry])\n",
    "        return a\n",
    "    \n",
    "    def output_layer(self, a, w):\n",
    "        a = np.array(a).reshape(self.n_hidden,1)\n",
    "        a = np.append(np.array([[1]]), a, axis=0)\n",
    "        print(a)\n",
    "        #a = vector of length 5\n",
    "        #w = vector of length 15\n",
    "        y = np.zeros(shape=(self.n_output,1))\n",
    "        #y = 0 vector of length 3\n",
    "        for node in range(self.n_output): #0,1,2\n",
    "            y_a = np.zeros(shape=(self.n_hidden+1,1)) \n",
    "            #y_a = 0 vector of length 5\n",
    "            for index in range(len(w)): #0,1,2,3,...,14,15\n",
    "                if index % self.n_output == node:\n",
    "                    y_a[index//self.n_output] = w[index]\n",
    "            y[node] = np.dot(y_a.T,a)\n",
    "        #softmax\n",
    "        print(y)\n",
    "        y = np.exp(y)\n",
    "        print(y.exp)\n",
    "        sum = np.sum(y)\n",
    "        y = y*(1/sum)\n",
    "        for entry in range(len(y)):\n",
    "            y[entry] = 1 if y[entry] == max(y) else 0\n",
    "        return y\n",
    "\n",
    "    def predict(self, input):\n",
    "        a = self.hidden_layer(input, self.v)\n",
    "        y = self.output_layer(a, self.w)\n",
    "        return y\n",
    "\n",
    "\n",
    "\n",
    "\n",
    "main('wine.data')"
   ]
  },
  {
   "cell_type": "code",
   "execution_count": null,
   "metadata": {},
   "outputs": [
    {
     "name": "stdout",
     "output_type": "stream",
     "text": [
      "[[0.5123662 ]\n",
      " [0.7967629 ]\n",
      " [0.67040199]\n",
      " [0.6005905 ]\n",
      " [0.7216754 ]]\n",
      "[[0.]\n",
      " [1.]\n",
      " [0.]\n",
      " [0.]\n",
      " [0.]]\n"
     ]
    }
   ],
   "source": [
    "# import numpy as np\n",
    "# y = np.random.uniform(size=(5,1))\n",
    "# print(y)\n",
    "# y = np.exp(y)\n",
    "# sum = np.sum(y)\n",
    "# y = y*(1/sum)\n",
    "# for entry in range(len(y)):\n",
    "#     y[entry] = 1 if y[entry] == max(y) else 0\n",
    "# print(y)"
   ]
  }
 ],
 "metadata": {
  "kernelspec": {
   "display_name": "Python 3",
   "language": "python",
   "name": "python3"
  },
  "language_info": {
   "codemirror_mode": {
    "name": "ipython",
    "version": 3
   },
   "file_extension": ".py",
   "mimetype": "text/x-python",
   "name": "python",
   "nbconvert_exporter": "python",
   "pygments_lexer": "ipython3",
   "version": "3.11.1"
  },
  "orig_nbformat": 4,
  "vscode": {
   "interpreter": {
    "hash": "3056e99c9ab1ba1a35baf3512c9c98f5b428e9ef304492238fb3afedd59f1d06"
   }
  }
 },
 "nbformat": 4,
 "nbformat_minor": 2
}
