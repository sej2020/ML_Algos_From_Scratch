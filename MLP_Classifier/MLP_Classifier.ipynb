{
 "cells": [
  {
   "cell_type": "code",
   "execution_count": null,
   "metadata": {},
   "outputs": [],
   "source": [
    "import pandas as pd\n",
    "import numpy as np\n",
    "import os\n",
    "\n",
    "def load_data(datapath):\n",
    "    csv_path = os.path.abspath(datapath)\n",
    "    return pd.read_csv(csv_path, header=None)\n",
    "\n",
    "def data_split(dataset):\n",
    "    train = dataset.sample(frac=0.8)\n",
    "    val = dataset.drop(train.index)\n",
    "    train_y = train.iloc[:,0]\n",
    "    train_x = train.drop(0, axis=1)\n",
    "    val_y = val.iloc[:,0]\n",
    "    val_x = val.drop(0, axis=1)\n",
    "    return train_x, train_y, val_x, val_y\n",
    "\n",
    "def main(datapath):\n",
    "    train_x, train_y, val_x, val_y = data_split(load_data(datapath))\n",
    "    pass\n",
    "\n",
    "\n",
    "class MLP:\n",
    "\n",
    "    def __init__(self, n_hidden, n_input_feat, n_classes, learning_rate):\n",
    "        self.n_hidden = n_hidden #4\n",
    "        self.n_input = n_input_feat #14\n",
    "        self.n_output = n_classes #3\n",
    "        self.lr = learning_rate #0.0001\n",
    "\n",
    "        self.v = np.random.uniform(size=((self.n_input+1)*self.n_hidden,1))\n",
    "        self.w = np.random.uniform(size=((self.n_hidden+1)*self.n_output,1))\n",
    "\n",
    "\n",
    "    def hidden_layer(self, x, v):\n",
    "        #x = vector of length 15\n",
    "        #v = vector of length 60\n",
    "        a = np.zeros(size=(self.n_hidden,1))\n",
    "        #a = 0 vector of length 4\n",
    "        for node in range(self.n_hidden): #0,1,2,3\n",
    "            a_x = np.zeros(size=(self.n_input+1,1)) \n",
    "            #a_x = 0 vector of length 15\n",
    "            for index in range(len(v)): #0,1,2,3,...,59,60\n",
    "                if index % self.n_hidden == node:\n",
    "                    a_x[index//self.n_hidden] = v[index]\n",
    "            a[node] = np.dot(a_x,x)\n",
    "        for entry in range(a):\n",
    "            a[entry] = (lambda z: z*(z > 0))(entry)\n",
    "        return a\n",
    "    \n",
    "    def output_layer(self, a, w):\n",
    "        # modify a to add bias term\n",
    "        #a = vector of length 5\n",
    "        #w = vector of length 15\n",
    "        y = np.zeros(size=(self.n_output,1))\n",
    "        #y = 0 vector of length 3\n",
    "        for node in range(self.n_output): #0,1,2\n",
    "            y_a = np.zeros(size=(self.n_hidden+1,1)) \n",
    "            #y_a = 0 vector of length 5\n",
    "            for index in range(len(w)): #0,1,2,3,...,14,15\n",
    "                if index % self.n_output == node:\n",
    "                    y_a[index//self.n_output] = w[index]\n",
    "            y[node] = np.dot(y_a,a)\n",
    "        for entry in range(y):\n",
    "            y[entry] = (lambda z: z*(z > 0))(entry) #CHANGE TO SOME SORT OF SOFTMAX LAMBDA WITH ONE HOT ENCODING OKAY LOWER YOUR VOICE SIR\n",
    "        return y\n",
    "\n",
    "    def predict(self, input):\n",
    "        x = [] #make x vector out of input and bias\n",
    "        a = self.hidden_layer(x, self.v)\n",
    "        y = self.output_layer(a, self.w)\n",
    "\n",
    "\n",
    "\n",
    "\n",
    "main('wine.data')"
   ]
  },
  {
   "cell_type": "code",
   "execution_count": 22,
   "metadata": {},
   "outputs": [
    {
     "name": "stdout",
     "output_type": "stream",
     "text": [
      "[[0.06924711]\n",
      " [0.49533038]\n",
      " [0.54240531]\n",
      " [0.82560534]\n",
      " [0.71195889]]\n"
     ]
    }
   ],
   "source": [
    "import numpy as np\n",
    "print(np.random.uniform(size=(5,1)))"
   ]
  }
 ],
 "metadata": {
  "kernelspec": {
   "display_name": "Python 3",
   "language": "python",
   "name": "python3"
  },
  "language_info": {
   "codemirror_mode": {
    "name": "ipython",
    "version": 3
   },
   "file_extension": ".py",
   "mimetype": "text/x-python",
   "name": "python",
   "nbconvert_exporter": "python",
   "pygments_lexer": "ipython3",
   "version": "3.11.1"
  },
  "orig_nbformat": 4,
  "vscode": {
   "interpreter": {
    "hash": "3056e99c9ab1ba1a35baf3512c9c98f5b428e9ef304492238fb3afedd59f1d06"
   }
  }
 },
 "nbformat": 4,
 "nbformat_minor": 2
}
